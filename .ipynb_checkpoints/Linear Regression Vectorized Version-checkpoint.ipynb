{
 "cells": [
  {
   "cell_type": "markdown",
   "id": "7ccb1507",
   "metadata": {},
   "source": [
    "## Import required modules."
   ]
  },
  {
   "cell_type": "code",
   "execution_count": 1,
   "id": "53a57647",
   "metadata": {},
   "outputs": [],
   "source": [
    "from sklearn.datasets import make_regression\n",
    "import matplotlib.pyplot as plt\n",
    "import numpy as np\n",
    "import time"
   ]
  },
  {
   "cell_type": "markdown",
   "id": "39e597df",
   "metadata": {},
   "source": [
    "### Use link below to recall vectorized format of Linear Regression\n",
    "### https://www.geeksforgeeks.org/vectorization-of-gradient-descent/\n"
   ]
  },
  {
   "cell_type": "code",
   "execution_count": 2,
   "id": "da4cccec",
   "metadata": {},
   "outputs": [],
   "source": [
    "class Linear_Regression:\n",
    "    def __init__(self,X,y,lr=0.1,n_iter=100):\n",
    "        self.lr=lr\n",
    "        self.n_iter=n_iter\n",
    "        self.X=self.add_ones(X)\n",
    "        self.y= y.reshape(y.shape[0], 1) # Convert y from 1d to 2d array.\n",
    "#         print(f'X = {self.X}')\n",
    "#         print(f'y = {self.y}')\n",
    "        \n",
    "    def fit(self):\n",
    "        n_samples,n_features=self.X.shape\n",
    "        self.n_samples=n_samples\n",
    "        self.weights=np.ones(shape=(n_features,1)) # the first index pos is for 'b'(bias)\n",
    "#         print(f'self.weights = {self.weights}')\n",
    "        self.gd()\n",
    "        \n",
    "    ''' In short, the dot product is the sum of products of values in two same-sized vectors and the matrix multiplication \n",
    "    is a matrix version of the dot product with two matrices.\n",
    "    '''\n",
    "    def gd(self):\n",
    "#         print(f'self.X = {self.X}')\n",
    "#         print(f'self.y = {self.y}')\n",
    "#         print(f'self.weights before gd = {self.weights}')\n",
    "        for i in range(self.n_iter):\n",
    "            g1=self.X.dot(self.weights)- self.y # h_theta-y\n",
    "#             print(f'g1 = {g1}')\n",
    "            g2=(self.X.T)@(g1)\n",
    "#             print(f'g2 = {g2}')\n",
    "            \n",
    "            self.weights = self.weights - ((1/self.n_samples)*self.lr*g2)\n",
    "            \n",
    "#         print(f'self.g1 after gd = {self.weights}')\n",
    "            \n",
    "    def predict(self,X):\n",
    "        X = self.add_ones(X)\n",
    "#         print(f'X = {X}')\n",
    "#         print(f'w = {self.weights}')\n",
    "        \n",
    "        pred = X.dot(self.weights)\n",
    "        return pred\n",
    "        \n",
    "        \n",
    "    # this function will add a column of ones to your dataset    \n",
    "    def add_ones(self,X):\n",
    "        ones=np.ones((len(X),1))\n",
    "        X=np.concatenate([ones,X],axis=1)\n",
    "        return X\n",
    "    \n",
    "    def mse(self,y_true, y_pred):\n",
    "        return np.mean((y_true - y_pred) ** 2)\n",
    "        \n",
    "        "
   ]
  },
  {
   "cell_type": "code",
   "execution_count": 3,
   "id": "d996bf78",
   "metadata": {},
   "outputs": [],
   "source": [
    "# testing\n",
    "from sklearn import datasets\n",
    "import matplotlib.pyplot as plt\n",
    "from sklearn.model_selection import train_test_split\n",
    "\n",
    "X, y = datasets.make_regression(n_samples=100,noise=10, n_features=1, random_state=4)\n",
    "datasets.make_classification()\n",
    "\n",
    "X_train, X_test, y_train, y_test = train_test_split(X, y, test_size=0.2, random_state=1234)"
   ]
  },
  {
   "cell_type": "code",
   "execution_count": 4,
   "id": "d69e86ab",
   "metadata": {},
   "outputs": [
    {
     "data": {
      "text/plain": [
       "array([[-1.3474603 ],\n",
       "       [ 0.3523434 ],\n",
       "       [ 0.9546986 ],\n",
       "       [ 0.03592805],\n",
       "       [ 0.04800625],\n",
       "       [ 0.04860301],\n",
       "       [ 0.72334161],\n",
       "       [ 0.80208661],\n",
       "       [-1.14379857],\n",
       "       [ 0.17941071]])"
      ]
     },
     "execution_count": 4,
     "metadata": {},
     "output_type": "execute_result"
    }
   ],
   "source": [
    "X[:10]"
   ]
  },
  {
   "cell_type": "code",
   "execution_count": 5,
   "id": "63bbecec",
   "metadata": {},
   "outputs": [
    {
     "data": {
      "text/plain": [
       "array([-114.29640622,   38.84514523,   67.83340531,    4.39178084,\n",
       "         -1.04166201,    0.4698121 ,   56.82174519,   57.36723819,\n",
       "        -91.10796879,   19.13744912])"
      ]
     },
     "execution_count": 5,
     "metadata": {},
     "output_type": "execute_result"
    }
   ],
   "source": [
    "y[:10]"
   ]
  },
  {
   "cell_type": "code",
   "execution_count": 6,
   "id": "defff188",
   "metadata": {},
   "outputs": [
    {
     "data": {
      "text/plain": [
       "(100, 1)"
      ]
     },
     "execution_count": 6,
     "metadata": {},
     "output_type": "execute_result"
    }
   ],
   "source": [
    "X.shape"
   ]
  },
  {
   "cell_type": "code",
   "execution_count": 7,
   "id": "8fe05945",
   "metadata": {},
   "outputs": [
    {
     "data": {
      "text/plain": [
       "(100,)"
      ]
     },
     "execution_count": 7,
     "metadata": {},
     "output_type": "execute_result"
    }
   ],
   "source": [
    "y.shape"
   ]
  },
  {
   "cell_type": "code",
   "execution_count": 8,
   "id": "9c4395cf",
   "metadata": {},
   "outputs": [
    {
     "data": {
      "image/png": "[encoded data removed]",
      "text/plain": [
       "<Figure size 432x288 with 1 Axes>"
      ]
     },
     "metadata": {
      "needs_background": "light"
     },
     "output_type": "display_data"
    }
   ],
   "source": [
    "# Visualize the relation b/w X and y only when x containts a single feature\n",
    "if(X.shape[1]==1):\n",
    "    plt.scatter(X, y, c = 'red')\n",
    "    plt.xlabel('Feature')\n",
    "    plt.ylabel('Target_Variable')\n",
    "    plt.title('Training Data')\n",
    "    plt.show()"
   ]
  },
  {
   "cell_type": "code",
   "execution_count": 9,
   "id": "6fde4048",
   "metadata": {},
   "outputs": [
    {
     "data": {
      "text/plain": [
       "(array([[0.17941071],\n",
       "        [0.15846954],\n",
       "        [0.52324766],\n",
       "        [1.3799201 ],\n",
       "        [0.33225315]]),\n",
       " array([ 19.13744912,  -3.51845806,  38.5505602 , 111.40279483,\n",
       "         17.39771228]))"
      ]
     },
     "execution_count": 9,
     "metadata": {},
     "output_type": "execute_result"
    }
   ],
   "source": [
    "# plt.scatter(X_train,y_train)\n",
    "X_train[:5],y_train[:5]"
   ]
  },
  {
   "cell_type": "code",
   "execution_count": 10,
   "id": "b08b5a42",
   "metadata": {},
   "outputs": [],
   "source": [
    "lr=Linear_Regression(X_train,y_train,1,2000)\n",
    "lr.fit()"
   ]
  },
  {
   "cell_type": "code",
   "execution_count": 11,
   "id": "8875f811",
   "metadata": {},
   "outputs": [],
   "source": [
    "y_pred = lr.predict(X)"
   ]
  },
  {
   "cell_type": "code",
   "execution_count": 12,
   "id": "124b0e3f",
   "metadata": {},
   "outputs": [],
   "source": [
    "from sklearn.metrics import mean_absolute_error"
   ]
  },
  {
   "cell_type": "code",
   "execution_count": 13,
   "id": "e9e2462f",
   "metadata": {},
   "outputs": [
    {
     "data": {
      "text/plain": [
       "6.886848283977797"
      ]
     },
     "execution_count": 13,
     "metadata": {},
     "output_type": "execute_result"
    }
   ],
   "source": [
    "mean_absolute_error(y,y_pred)"
   ]
  },
  {
   "cell_type": "code",
   "execution_count": 14,
   "id": "d0ee3f44",
   "metadata": {},
   "outputs": [
    {
     "data": {
      "text/plain": [
       "10856.597323875822"
      ]
     },
     "execution_count": 14,
     "metadata": {},
     "output_type": "execute_result"
    }
   ],
   "source": [
    "lr.mse(y,y_pred)"
   ]
  },
  {
   "cell_type": "code",
   "execution_count": 15,
   "id": "3eb99e00",
   "metadata": {},
   "outputs": [
    {
     "data": {
      "text/plain": [
       "20"
      ]
     },
     "execution_count": 15,
     "metadata": {},
     "output_type": "execute_result"
    }
   ],
   "source": [
    "len(y[80:])"
   ]
  },
  {
   "cell_type": "code",
   "execution_count": 16,
   "id": "7ee1ccf4",
   "metadata": {},
   "outputs": [
    {
     "data": {
      "image/png": "[encoded data removed]",
      "text/plain": [
       "<Figure size 432x288 with 1 Axes>"
      ]
     },
     "metadata": {
      "needs_background": "light"
     },
     "output_type": "display_data"
    }
   ],
   "source": [
    "if(X.shape[1]==1):\n",
    "    plt.scatter(X, y, c = 'red')\n",
    "    plt.plot(X ,y_pred)\n",
    "    plt.xlabel('Feature')\n",
    "    plt.ylabel('Target_Variable')\n",
    "    plt.title('Output')"
   ]
  },
  {
   "cell_type": "code",
   "execution_count": null,
   "id": "a4d6cf98",
   "metadata": {},
   "outputs": [],
   "source": []
  },
  {
   "cell_type": "code",
   "execution_count": null,
   "id": "5071db44",
   "metadata": {},
   "outputs": [],
   "source": []
  },
  {
   "cell_type": "code",
   "execution_count": null,
   "id": "e57830ba",
   "metadata": {},
   "outputs": [],
   "source": []
  }
 ],
 "metadata": {
  "kernelspec": {
   "display_name": "Python 3 (ipykernel)",
   "language": "python",
   "name": "python3"
  },
  "language_info": {
   "codemirror_mode": {
    "name": "ipython",
    "version": 3
   },
   "file_extension": ".py",
   "mimetype": "text/x-python",
   "name": "python",
   "nbconvert_exporter": "python",
   "pygments_lexer": "ipython3",
   "version": "3.9.6"
  }
 },
 "nbformat": 4,
 "nbformat_minor": 5
}
