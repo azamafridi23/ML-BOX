{
 "cells": [
  {
   "cell_type": "code",
   "execution_count": 1,
   "id": "78f774d3",
   "metadata": {},
   "outputs": [],
   "source": [
    "import numpy as np"
   ]
  },
  {
   "cell_type": "markdown",
   "id": "9bb85509",
   "metadata": {},
   "source": [
    "## Class of LinearRegression consisting of fit, predict and mse function"
   ]
  },
  {
   "cell_type": "code",
   "execution_count": 2,
   "id": "69445a77",
   "metadata": {},
   "outputs": [],
   "source": [
    "class Linear_Regression:\n",
    "    def __init__(self,lr=0.01,n_iters=100):\n",
    "        self.lr=lr\n",
    "        self.n_iters=n_iters\n",
    "        self.weights=None\n",
    "        self.bias=None\n",
    "        \n",
    "    def fit(self,X,y):\n",
    "        n_samples,n_features = X.shape\n",
    "        \n",
    "        #initialize params. There will be a weight var for each feature\n",
    "        self.weights = np.zeros(n_features)\n",
    "        self.bias = 0\n",
    "        \n",
    "        # gradient descent\n",
    "        # print(f\"Values before gd = \")\n",
    "        # print(f'm = {self.weights} , b = {self.bias}')\n",
    "        \n",
    "        # print(f\"Values during gd = \")\n",
    "        for _ in range(self.n_iters):\n",
    "            y_pred = np.dot(X,self.weights)+self.bias\n",
    "            \n",
    "            # compute gradients\n",
    "            dw=(1/n_samples)*(np.dot((X.T),(y_pred-y)))\n",
    "            db=(1/n_samples)*(np.sum(y_pred-y))\n",
    "            \n",
    "            # update params\n",
    "            self.weights = self.weights - self.lr*(dw)\n",
    "            self.bias = self.bias - self.lr*(db)\n",
    "            \n",
    "            # print(f'm = {self.weights} , b = {self.bias}')\n",
    "            \n",
    "    def predict(self,X):\n",
    "        pred=np.dot(X,self.weights)+self.bias\n",
    "        return pred\n",
    "    \n",
    "    def mse(self,y_true, y_pred):\n",
    "        return np.mean((y_true - y_pred) ** 2)"
   ]
  },
  {
   "cell_type": "markdown",
   "id": "be0b0185",
   "metadata": {},
   "source": [
    "## Get X and y datapoints from sklearn's make_regression function"
   ]
  },
  {
   "cell_type": "code",
   "execution_count": 3,
   "id": "5b5efd73",
   "metadata": {},
   "outputs": [],
   "source": [
    "from sklearn import datasets\n",
    "import matplotlib.pyplot as plt\n",
    "from sklearn.model_selection import train_test_split\n",
    "\n",
    "X, y = datasets.make_regression(n_samples=100, n_features=1, noise=20, random_state=4)\n",
    "\n",
    "X_train, X_test, y_train, y_test = train_test_split(X, y, test_size=0.2, random_state=1234)"
   ]
  },
  {
   "cell_type": "code",
   "execution_count": 4,
   "id": "e572e460",
   "metadata": {},
   "outputs": [
    {
     "data": {
      "text/plain": [
       "array([[ 0.17941071],\n",
       "       [ 0.15846954],\n",
       "       [ 0.52324766],\n",
       "       [ 1.3799201 ],\n",
       "       [ 0.33225315],\n",
       "       [ 2.22336022],\n",
       "       [-0.5648753 ],\n",
       "       [-0.0093601 ],\n",
       "       [ 1.63574754],\n",
       "       [ 0.03754749]])"
      ]
     },
     "execution_count": 4,
     "metadata": {},
     "output_type": "execute_result"
    }
   ],
   "source": [
    "X_train[:10]"
   ]
  },
  {
   "cell_type": "code",
   "execution_count": 5,
   "id": "d4007e71",
   "metadata": {},
   "outputs": [
    {
     "data": {
      "text/plain": [
       "array([ 24.64812471, -19.07314539,  37.35891532, 117.99658351,\n",
       "         9.55981705, 176.92831393, -21.4183161 , -17.17634894,\n",
       "       102.48327018,  15.74278405])"
      ]
     },
     "execution_count": 5,
     "metadata": {},
     "output_type": "execute_result"
    }
   ],
   "source": [
    "y_train[:10]"
   ]
  },
  {
   "cell_type": "markdown",
   "id": "85f183c3",
   "metadata": {},
   "source": [
    "## Visualize the relation between x and y axis"
   ]
  },
  {
   "cell_type": "code",
   "execution_count": 6,
   "id": "382c9ce4",
   "metadata": {},
   "outputs": [
    {
     "data": {
      "text/plain": [
       "<matplotlib.collections.PathCollection at 0x2412cb05760>"
      ]
     },
     "execution_count": 6,
     "metadata": {},
     "output_type": "execute_result"
    },
    {
     "data": {
      "image/png": "[encoded data removed]",
      "text/plain": [
       "<Figure size 432x288 with 1 Axes>"
      ]
     },
     "metadata": {
      "needs_background": "light"
     },
     "output_type": "display_data"
    }
   ],
   "source": [
    "plt.scatter(X_train,y_train)"
   ]
  },
  {
   "cell_type": "code",
   "execution_count": 7,
   "id": "e17bbebf",
   "metadata": {},
   "outputs": [
    {
     "name": "stdout",
     "output_type": "stream",
     "text": [
      "MSE: 779.2367646459217\n"
     ]
    }
   ],
   "source": [
    "regressor = Linear_Regression(lr=0.01, n_iters=100)\n",
    "regressor.fit(X_train, y_train)\n",
    "predictions = regressor.predict(X_test)\n",
    "\n",
    "mse = regressor.mse(y_test, predictions)\n",
    "print(\"MSE:\", mse)"
   ]
  },
  {
   "cell_type": "markdown",
   "id": "45643899",
   "metadata": {},
   "source": [
    "## Plotting the predicted outcomes and real values"
   ]
  },
  {
   "cell_type": "code",
   "execution_count": 8,
   "id": "83236225",
   "metadata": {},
   "outputs": [
    {
     "data": {
      "text/plain": [
       "[<matplotlib.lines.Line2D at 0x2412ec225b0>]"
      ]
     },
     "execution_count": 8,
     "metadata": {},
     "output_type": "execute_result"
    },
    {
     "data": {
      "image/png": "[encoded data removed]",
      "text/plain": [
       "<Figure size 432x288 with 1 Axes>"
      ]
     },
     "metadata": {
      "needs_background": "light"
     },
     "output_type": "display_data"
    }
   ],
   "source": [
    "plt.scatter(X_test,y_test)\n",
    "plt.plot(X_test,predictions,color='red')"
   ]
  },
  {
   "cell_type": "code",
   "execution_count": null,
   "id": "0b536923",
   "metadata": {},
   "outputs": [],
   "source": []
  }
 ],
 "metadata": {
  "kernelspec": {
   "display_name": "Python 3 (ipykernel)",
   "language": "python",
   "name": "python3"
  },
  "language_info": {
   "codemirror_mode": {
    "name": "ipython",
    "version": 3
   },
   "file_extension": ".py",
   "mimetype": "text/x-python",
   "name": "python",
   "nbconvert_exporter": "python",
   "pygments_lexer": "ipython3",
   "version": "3.9.6"
  }
 },
 "nbformat": 4,
 "nbformat_minor": 5
}
